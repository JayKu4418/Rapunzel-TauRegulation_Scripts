{
 "cells": [
  {
   "cell_type": "markdown",
   "metadata": {},
   "source": [
    "# Get sequences around MAPT hairpin with mutations and snps in them and get MFE structures and ensemble structures -> Use sequence we used DMS on\n",
    "\n",
    "folder written to in tmp: BuildEnsembleFromMutationsSNPs_DMSProbed\n",
    "\n",
    "This script will supply a fasta file with MAPT sequence that was probed by DMS. Replace the WT base at the site of mutation or common SNP with the different base. \n",
    "Write all the sequences into a fasta file"
   ]
  },
  {
   "cell_type": "markdown",
   "metadata": {},
   "source": [
    "#### Using RNAsubopt using stochBT option"
   ]
  },
  {
   "cell_type": "raw",
   "metadata": {},
   "source": [
    "%%script bash -s \"$tmpFolderToWrite\"\n",
    "# Generate 1000 suboptimal structures for WT sequence\n",
    "# This does not seem to run properly in jupyter notebook cell, run in actual bash\n",
    "num=$(($4 + 0))\n",
    "RNAsubopt −p 1000 --shape ../tmp/MAPT_amplicon_HCC1500_Take2/Pipeline_MAPT-Exon10Plus300basesintoIntron10.shape -i ../data/MAPT_hairpin_CoordsForLaederachPrimer.fa > ../tmp/SuboptimalStructures_1000_MAPT_hairpin_LaederachPrimer_IncludingDMSdata.txt"
   ]
  },
  {
   "cell_type": "code",
   "execution_count": 38,
   "metadata": {},
   "outputs": [],
   "source": [
    "#mutationToWrite=\"rs116733906\"\n",
    "mutationToWrite=\"IncludingDMSdata\"\n",
    "#mutationToWrite=\"NoDMSdata\""
   ]
  },
  {
   "cell_type": "code",
   "execution_count": 39,
   "metadata": {},
   "outputs": [],
   "source": [
    "# Read in 1000 suboptimal structures \n",
    "with open(\"../tmp/SuboptimalStructures_1000_MAPT_hairpin_LaederachPrimer_\"+mutationToWrite+\".txt\") as f:\n",
    "    wholefile = f.read().strip()   "
   ]
  },
  {
   "cell_type": "code",
   "execution_count": 40,
   "metadata": {},
   "outputs": [
    {
     "name": "stdout",
     "output_type": "stream",
     "text": [
      "1002\n"
     ]
    }
   ],
   "source": [
    "# Split by sequences based on new line\n",
    "splitByNewLine = wholefile.split(\"\\n\")\n",
    "print(len(splitByNewLine))"
   ]
  },
  {
   "cell_type": "code",
   "execution_count": 41,
   "metadata": {},
   "outputs": [
    {
     "name": "stdout",
     "output_type": "stream",
     "text": [
      "1000\n"
     ]
    }
   ],
   "source": [
    "# Only grab lines that have . or ( or ) as the start character\n",
    "splitByNewLine_OnlyDBs = [i for i in splitByNewLine if i[0] in [\".\",\"(\",\")\"]]\n",
    "print(len(splitByNewLine_OnlyDBs))"
   ]
  },
  {
   "cell_type": "code",
   "execution_count": 42,
   "metadata": {},
   "outputs": [
    {
     "name": "stdout",
     "output_type": "stream",
     "text": [
      "1000\n"
     ]
    }
   ],
   "source": [
    "# Only grab the first number of characters in the WT_seq \n",
    "onlyDBs = [i[0:wtseqLen] for i in splitByNewLine_OnlyDBs]\n",
    "print(len(onlyDBs))"
   ]
  },
  {
   "cell_type": "code",
   "execution_count": 43,
   "metadata": {},
   "outputs": [],
   "source": [
    "# Only grab unique DBs\n",
    "#DBs_unique = list(set(onlyDBs))\n",
    "#print(len(DBs_unique))"
   ]
  },
  {
   "cell_type": "code",
   "execution_count": 44,
   "metadata": {},
   "outputs": [],
   "source": [
    "# Write the suboptimal DB structures into a file\n",
    "with open(\"../tmp/SuboptimalStructures_1000_MAPT_hairpin_LaederachPrimer_\"+mutationToWrite+\"_UniqueDBs.db\",\"w\") as fw:\n",
    "    fw.write(\"\\n\".join(onlyDBs))\n",
    "    fw.write(\"\\n\")"
   ]
  },
  {
   "cell_type": "code",
   "execution_count": 45,
   "metadata": {},
   "outputs": [],
   "source": [
    "import pandas as pd"
   ]
  },
  {
   "cell_type": "code",
   "execution_count": 48,
   "metadata": {},
   "outputs": [
    {
     "data": {
      "text/html": [
       "<div>\n",
       "<style scoped>\n",
       "    .dataframe tbody tr th:only-of-type {\n",
       "        vertical-align: middle;\n",
       "    }\n",
       "\n",
       "    .dataframe tbody tr th {\n",
       "        vertical-align: top;\n",
       "    }\n",
       "\n",
       "    .dataframe thead th {\n",
       "        text-align: right;\n",
       "    }\n",
       "</style>\n",
       "<table border=\"1\" class=\"dataframe\">\n",
       "  <thead>\n",
       "    <tr style=\"text-align: right;\">\n",
       "      <th></th>\n",
       "      <th>withDMS_NoHairpin</th>\n",
       "      <th>withDMS_Hairpin</th>\n",
       "    </tr>\n",
       "  </thead>\n",
       "  <tbody>\n",
       "    <tr>\n",
       "      <th>0</th>\n",
       "      <td>13</td>\n",
       "      <td>987</td>\n",
       "    </tr>\n",
       "    <tr>\n",
       "      <th>1</th>\n",
       "      <td>16</td>\n",
       "      <td>984</td>\n",
       "    </tr>\n",
       "    <tr>\n",
       "      <th>2</th>\n",
       "      <td>13</td>\n",
       "      <td>987</td>\n",
       "    </tr>\n",
       "    <tr>\n",
       "      <th>3</th>\n",
       "      <td>17</td>\n",
       "      <td>983</td>\n",
       "    </tr>\n",
       "    <tr>\n",
       "      <th>4</th>\n",
       "      <td>9</td>\n",
       "      <td>991</td>\n",
       "    </tr>\n",
       "  </tbody>\n",
       "</table>\n",
       "</div>"
      ],
      "text/plain": [
       "   withDMS_NoHairpin  withDMS_Hairpin\n",
       "0                 13              987\n",
       "1                 16              984\n",
       "2                 13              987\n",
       "3                 17              983\n",
       "4                  9              991"
      ]
     },
     "execution_count": 48,
     "metadata": {},
     "output_type": "execute_result"
    }
   ],
   "source": [
    "withDMS = pd.read_csv(\"../tmp/MAPT_hairpin_CoordsForLaederachPrimer_IncludeDMS_1000Iterations.txt\",sep=\"\\t\",header=None)\n",
    "withDMS.columns = [\"withDMS_NoHairpin\",\"withDMS_Hairpin\"]\n",
    "withDMS.head()"
   ]
  },
  {
   "cell_type": "code",
   "execution_count": 52,
   "metadata": {},
   "outputs": [
    {
     "data": {
      "text/html": [
       "<div>\n",
       "<style scoped>\n",
       "    .dataframe tbody tr th:only-of-type {\n",
       "        vertical-align: middle;\n",
       "    }\n",
       "\n",
       "    .dataframe tbody tr th {\n",
       "        vertical-align: top;\n",
       "    }\n",
       "\n",
       "    .dataframe thead th {\n",
       "        text-align: right;\n",
       "    }\n",
       "</style>\n",
       "<table border=\"1\" class=\"dataframe\">\n",
       "  <thead>\n",
       "    <tr style=\"text-align: right;\">\n",
       "      <th></th>\n",
       "      <th>Sample</th>\n",
       "      <th>Number</th>\n",
       "    </tr>\n",
       "  </thead>\n",
       "  <tbody>\n",
       "    <tr>\n",
       "      <th>0</th>\n",
       "      <td>withDMS_NoHairpin</td>\n",
       "      <td>13</td>\n",
       "    </tr>\n",
       "    <tr>\n",
       "      <th>1</th>\n",
       "      <td>withDMS_NoHairpin</td>\n",
       "      <td>16</td>\n",
       "    </tr>\n",
       "    <tr>\n",
       "      <th>2</th>\n",
       "      <td>withDMS_NoHairpin</td>\n",
       "      <td>13</td>\n",
       "    </tr>\n",
       "    <tr>\n",
       "      <th>3</th>\n",
       "      <td>withDMS_NoHairpin</td>\n",
       "      <td>17</td>\n",
       "    </tr>\n",
       "    <tr>\n",
       "      <th>4</th>\n",
       "      <td>withDMS_NoHairpin</td>\n",
       "      <td>9</td>\n",
       "    </tr>\n",
       "  </tbody>\n",
       "</table>\n",
       "</div>"
      ],
      "text/plain": [
       "              Sample  Number\n",
       "0  withDMS_NoHairpin      13\n",
       "1  withDMS_NoHairpin      16\n",
       "2  withDMS_NoHairpin      13\n",
       "3  withDMS_NoHairpin      17\n",
       "4  withDMS_NoHairpin       9"
      ]
     },
     "execution_count": 52,
     "metadata": {},
     "output_type": "execute_result"
    }
   ],
   "source": [
    "# Melt the data\n",
    "withDMS_melted = withDMS.melt(value_vars=[\"withDMS_NoHairpin\"])\n",
    "withDMS_melted.columns = [\"Sample\",\"Number\"]\n",
    "withDMS_melted.head()"
   ]
  },
  {
   "cell_type": "code",
   "execution_count": 57,
   "metadata": {},
   "outputs": [
    {
     "data": {
      "text/html": [
       "<div>\n",
       "<style scoped>\n",
       "    .dataframe tbody tr th:only-of-type {\n",
       "        vertical-align: middle;\n",
       "    }\n",
       "\n",
       "    .dataframe tbody tr th {\n",
       "        vertical-align: top;\n",
       "    }\n",
       "\n",
       "    .dataframe thead th {\n",
       "        text-align: right;\n",
       "    }\n",
       "</style>\n",
       "<table border=\"1\" class=\"dataframe\">\n",
       "  <thead>\n",
       "    <tr style=\"text-align: right;\">\n",
       "      <th></th>\n",
       "      <th>withoutDMS_NoHairpin</th>\n",
       "      <th>withoutDMS_Hairpin</th>\n",
       "    </tr>\n",
       "  </thead>\n",
       "  <tbody>\n",
       "    <tr>\n",
       "      <th>0</th>\n",
       "      <td>9</td>\n",
       "      <td>991</td>\n",
       "    </tr>\n",
       "    <tr>\n",
       "      <th>1</th>\n",
       "      <td>8</td>\n",
       "      <td>992</td>\n",
       "    </tr>\n",
       "    <tr>\n",
       "      <th>2</th>\n",
       "      <td>8</td>\n",
       "      <td>992</td>\n",
       "    </tr>\n",
       "    <tr>\n",
       "      <th>3</th>\n",
       "      <td>9</td>\n",
       "      <td>991</td>\n",
       "    </tr>\n",
       "    <tr>\n",
       "      <th>4</th>\n",
       "      <td>17</td>\n",
       "      <td>983</td>\n",
       "    </tr>\n",
       "  </tbody>\n",
       "</table>\n",
       "</div>"
      ],
      "text/plain": [
       "   withoutDMS_NoHairpin  withoutDMS_Hairpin\n",
       "0                     9                 991\n",
       "1                     8                 992\n",
       "2                     8                 992\n",
       "3                     9                 991\n",
       "4                    17                 983"
      ]
     },
     "execution_count": 57,
     "metadata": {},
     "output_type": "execute_result"
    }
   ],
   "source": [
    "withoutDMS = pd.read_csv(\"../tmp/MAPT_hairpin_CoordsForLaederachPrimer_NoDMS_1000Iterations.txt\",sep=\"\\t\",header=None)\n",
    "withoutDMS.columns = [\"withoutDMS_NoHairpin\",\"withoutDMS_Hairpin\"]\n",
    "withoutDMS.head()"
   ]
  },
  {
   "cell_type": "code",
   "execution_count": 59,
   "metadata": {},
   "outputs": [
    {
     "data": {
      "text/html": [
       "<div>\n",
       "<style scoped>\n",
       "    .dataframe tbody tr th:only-of-type {\n",
       "        vertical-align: middle;\n",
       "    }\n",
       "\n",
       "    .dataframe tbody tr th {\n",
       "        vertical-align: top;\n",
       "    }\n",
       "\n",
       "    .dataframe thead th {\n",
       "        text-align: right;\n",
       "    }\n",
       "</style>\n",
       "<table border=\"1\" class=\"dataframe\">\n",
       "  <thead>\n",
       "    <tr style=\"text-align: right;\">\n",
       "      <th></th>\n",
       "      <th>Sample</th>\n",
       "      <th>Number</th>\n",
       "    </tr>\n",
       "  </thead>\n",
       "  <tbody>\n",
       "    <tr>\n",
       "      <th>0</th>\n",
       "      <td>withoutDMS_NoHairpin</td>\n",
       "      <td>9</td>\n",
       "    </tr>\n",
       "    <tr>\n",
       "      <th>1</th>\n",
       "      <td>withoutDMS_NoHairpin</td>\n",
       "      <td>8</td>\n",
       "    </tr>\n",
       "    <tr>\n",
       "      <th>2</th>\n",
       "      <td>withoutDMS_NoHairpin</td>\n",
       "      <td>8</td>\n",
       "    </tr>\n",
       "    <tr>\n",
       "      <th>3</th>\n",
       "      <td>withoutDMS_NoHairpin</td>\n",
       "      <td>9</td>\n",
       "    </tr>\n",
       "    <tr>\n",
       "      <th>4</th>\n",
       "      <td>withoutDMS_NoHairpin</td>\n",
       "      <td>17</td>\n",
       "    </tr>\n",
       "  </tbody>\n",
       "</table>\n",
       "</div>"
      ],
      "text/plain": [
       "                 Sample  Number\n",
       "0  withoutDMS_NoHairpin       9\n",
       "1  withoutDMS_NoHairpin       8\n",
       "2  withoutDMS_NoHairpin       8\n",
       "3  withoutDMS_NoHairpin       9\n",
       "4  withoutDMS_NoHairpin      17"
      ]
     },
     "execution_count": 59,
     "metadata": {},
     "output_type": "execute_result"
    }
   ],
   "source": [
    "# Melt the data\n",
    "withoutDMS_melted = withoutDMS.melt(value_vars=[\"withoutDMS_NoHairpin\"])\n",
    "withoutDMS_melted.columns = [\"Sample\",\"Number\"]\n",
    "withoutDMS_melted.head()"
   ]
  },
  {
   "cell_type": "code",
   "execution_count": 60,
   "metadata": {},
   "outputs": [
    {
     "data": {
      "text/html": [
       "<div>\n",
       "<style scoped>\n",
       "    .dataframe tbody tr th:only-of-type {\n",
       "        vertical-align: middle;\n",
       "    }\n",
       "\n",
       "    .dataframe tbody tr th {\n",
       "        vertical-align: top;\n",
       "    }\n",
       "\n",
       "    .dataframe thead th {\n",
       "        text-align: right;\n",
       "    }\n",
       "</style>\n",
       "<table border=\"1\" class=\"dataframe\">\n",
       "  <thead>\n",
       "    <tr style=\"text-align: right;\">\n",
       "      <th></th>\n",
       "      <th>Sample</th>\n",
       "      <th>Number</th>\n",
       "    </tr>\n",
       "  </thead>\n",
       "  <tbody>\n",
       "    <tr>\n",
       "      <th>995</th>\n",
       "      <td>withoutDMS_NoHairpin</td>\n",
       "      <td>9</td>\n",
       "    </tr>\n",
       "    <tr>\n",
       "      <th>996</th>\n",
       "      <td>withoutDMS_NoHairpin</td>\n",
       "      <td>8</td>\n",
       "    </tr>\n",
       "    <tr>\n",
       "      <th>997</th>\n",
       "      <td>withoutDMS_NoHairpin</td>\n",
       "      <td>13</td>\n",
       "    </tr>\n",
       "    <tr>\n",
       "      <th>998</th>\n",
       "      <td>withoutDMS_NoHairpin</td>\n",
       "      <td>16</td>\n",
       "    </tr>\n",
       "    <tr>\n",
       "      <th>999</th>\n",
       "      <td>withoutDMS_NoHairpin</td>\n",
       "      <td>7</td>\n",
       "    </tr>\n",
       "  </tbody>\n",
       "</table>\n",
       "</div>"
      ],
      "text/plain": [
       "                   Sample  Number\n",
       "995  withoutDMS_NoHairpin       9\n",
       "996  withoutDMS_NoHairpin       8\n",
       "997  withoutDMS_NoHairpin      13\n",
       "998  withoutDMS_NoHairpin      16\n",
       "999  withoutDMS_NoHairpin       7"
      ]
     },
     "execution_count": 60,
     "metadata": {},
     "output_type": "execute_result"
    }
   ],
   "source": [
    "# Concatenate the two data frames\n",
    "data = pd.concat([withDMS_melted,withoutDMS_melted])\n",
    "data.tail()"
   ]
  },
  {
   "cell_type": "code",
   "execution_count": 61,
   "metadata": {},
   "outputs": [
    {
     "name": "stderr",
     "output_type": "stream",
     "text": [
      "/usr/local/lib/python2.7/dist-packages/rpy2/rinterface/__init__.py:186: RRuntimeWarning: Loading required package: ggplot2\n",
      "\n",
      "  warnings.warn(x, RRuntimeWarning)\n",
      "/usr/local/lib/python2.7/dist-packages/rpy2/rinterface/__init__.py:186: RRuntimeWarning: Loading required package: reshape\n",
      "\n",
      "  warnings.warn(x, RRuntimeWarning)\n"
     ]
    },
    {
     "data": {
      "text/plain": [
       "array([1], dtype=int32)"
      ]
     },
     "execution_count": 61,
     "metadata": {},
     "output_type": "execute_result"
    }
   ],
   "source": [
    "# Load R GGplots\n",
    "%load_ext rpy2.ipython\n",
    "%R require(ggplot2)\n",
    "%R require(reshape)"
   ]
  },
  {
   "cell_type": "code",
   "execution_count": 65,
   "metadata": {},
   "outputs": [
    {
     "data": {
      "image/png": "[encoded data removed]"
     },
     "metadata": {},
     "output_type": "display_data"
    }
   ],
   "source": [
    "%%R -i data\n",
    "p<- ggplot(data, aes(x=Number, fill=Sample, color=Sample)) +\n",
    "  geom_histogram(alpha=0.25, binwidth=1,position=\"identity\") +\n",
    "    ggtitle(\"Frequency of Number of structures with Hairpins for\\n Plus and Minus DMS\") +\n",
    "    xlab(\"\\nNumber\") +\n",
    "    ylab(\"Frequency\\n\") +\n",
    "    theme(axis.title.x=element_text(face=\"bold\",size=12),axis.title.y=element_text(face=\"bold\",size=12),\n",
    "          axis.text.x = element_text(face=\"bold\",size=8),axis.text.y = element_text(face=\"bold\",size=8),\n",
    "         plot.title = element_text(face=\"bold\",size=15))\n",
    "#filenameToSave = paste(\"../results/\",folderName,\"/GGplot2-FrequencyMAPQvalsPlusMinusDMS-\",sampleName,\".png\",sep=\"\")\n",
    "#print(filenameToSave)\n",
    "ggsave(p,file=\"../results/ensembleRNA_DMSvsNoDMS_MAPThairpin.png\",width=8.1,height=5.6,dpi=300)\n",
    "p"
   ]
  }
 ],
 "metadata": {
  "kernelspec": {
   "display_name": "Python 2",
   "language": "python",
   "name": "python2"
  },
  "language_info": {
   "codemirror_mode": {
    "name": "ipython",
    "version": 2
   },
   "file_extension": ".py",
   "mimetype": "text/x-python",
   "name": "python",
   "nbconvert_exporter": "python",
   "pygments_lexer": "ipython2",
   "version": "2.7.15rc1"
  }
 },
 "nbformat": 4,
 "nbformat_minor": 2
}
