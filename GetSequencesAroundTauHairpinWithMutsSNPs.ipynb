{
 "cells": [
  {
   "cell_type": "markdown",
   "metadata": {},
   "source": [
    "# Get sequences around MAPT hairpin with mutations and snps in them and get MFE structures and ensemble structures \n",
    "\n",
    "folder written to in tmp: BuildEnsembleFromMutationsSNPs\n",
    "\n",
    "This script will supply a fasta file with WT sequence around the hairpin and the start coordinates. Replace the WT base at the site of mutation or common SNP with the different base. \n",
    "Write all the sequences into a fasta file"
   ]
  },
  {
   "cell_type": "code",
   "execution_count": 61,
   "metadata": {},
   "outputs": [],
   "source": [
    "tmpFolderToWrite=\"BuildEnsembleFromMutationsSNPs\""
   ]
  },
  {
   "cell_type": "code",
   "execution_count": 81,
   "metadata": {},
   "outputs": [],
   "source": [
    "# This is the fasta file to read in for WT sequence\n",
    "fastafile = \"../data/MAPT_hairpin_CoordsForLaederachPrimer.fa\""
   ]
  },
  {
   "cell_type": "code",
   "execution_count": 82,
   "metadata": {},
   "outputs": [],
   "source": [
    "# Open up the fasta file\n",
    "with open(fastafile) as f:\n",
    "    lines=[line.strip() for line in f]"
   ]
  },
  {
   "cell_type": "code",
   "execution_count": 83,
   "metadata": {},
   "outputs": [
    {
     "name": "stdout",
     "output_type": "stream",
     "text": [
      "AACGTCCAGTCCAAGTGTGGCTCAAAGGATAATATCAAACACGTCCCGGGAGGCGGCAGTGTGAGTACCTTCACACGTCCCATGCGCCGTGCTGTGGCTTGAATTATTAGGAAGTGGTGTGAGTGCGTACACTTGCGAGACACTGCATAGAATAAATCCTTCTTGGGCTCTCAGGATCTGGCTGCGACCTCTGGGTGAATG\n"
     ]
    }
   ],
   "source": [
    "# The second line will be the WT sequence\n",
    "WT_seq=lines[1]\n",
    "print(WT_seq)"
   ]
  },
  {
   "cell_type": "code",
   "execution_count": 84,
   "metadata": {},
   "outputs": [],
   "source": [
    "# Get length of WT seq\n",
    "wtseqLen = len(WT_seq)"
   ]
  },
  {
   "cell_type": "code",
   "execution_count": 85,
   "metadata": {},
   "outputs": [
    {
     "name": "stdout",
     "output_type": "stream",
     "text": [
      "46010343\n"
     ]
    }
   ],
   "source": [
    "# The first line will contain the start coordinate, separated by ,: and - [looks something like this >MAPT, chr17:46010343-46010543, MAPT hairpin ]\n",
    "start_Coord=int(lines[0].split(\",\")[1].split(\":\")[1].split(\"-\")[0])\n",
    "print(start_Coord)"
   ]
  },
  {
   "cell_type": "code",
   "execution_count": 145,
   "metadata": {},
   "outputs": [],
   "source": [
    "import pandas as pd"
   ]
  },
  {
   "cell_type": "markdown",
   "metadata": {},
   "source": [
    "### Get 1000 suboptimal structures for the WT/Mut sequence using ViennaRNA "
   ]
  },
  {
   "cell_type": "raw",
   "metadata": {},
   "source": [
    "%%script bash -s \"$tmpFolderToWrite\"\n",
    "# Generate 1000 suboptimal structures for WT sequence\n",
    "# This does not seem to run properly in jupyter notebook cell, run in actual bash\n",
    "num=$(($4 + 0))\n",
    "RNAsubopt −p 1000 -i ../data/MAPT_hairpin_CoordsForLaederachPrimer.fa > ../tmp/${1}/SuboptimalStructures_1000_MAPT_hairpin_LaederachPrimer.txt"
   ]
  },
  {
   "cell_type": "code",
   "execution_count": 137,
   "metadata": {},
   "outputs": [],
   "source": [
    "mutationToWrite=\"rs116733906\""
   ]
  },
  {
   "cell_type": "code",
   "execution_count": 138,
   "metadata": {},
   "outputs": [],
   "source": [
    "# Read in 1000 suboptimal structures \n",
    "with open(\"../tmp/\"+tmpFolderToWrite+\"/SuboptimalStructures_1000_MAPT_hairpin_LaederachPrimer_\"+mutationToWrite+\".txt\") as f:\n",
    "    wholefile = f.read().strip()   "
   ]
  },
  {
   "cell_type": "code",
   "execution_count": 139,
   "metadata": {},
   "outputs": [
    {
     "name": "stdout",
     "output_type": "stream",
     "text": [
      "1002\n"
     ]
    }
   ],
   "source": [
    "# Split by sequences based on new line\n",
    "splitByNewLine = wholefile.split(\"\\n\")\n",
    "print(len(splitByNewLine))"
   ]
  },
  {
   "cell_type": "code",
   "execution_count": 140,
   "metadata": {},
   "outputs": [
    {
     "name": "stdout",
     "output_type": "stream",
     "text": [
      "1000\n"
     ]
    }
   ],
   "source": [
    "# Only grab lines that have . or ( or ) as the start character\n",
    "splitByNewLine_OnlyDBs = [i for i in splitByNewLine if i[0] in [\".\",\"(\",\")\"]]\n",
    "print(len(splitByNewLine_OnlyDBs))"
   ]
  },
  {
   "cell_type": "code",
   "execution_count": 141,
   "metadata": {},
   "outputs": [
    {
     "name": "stdout",
     "output_type": "stream",
     "text": [
      "1000\n"
     ]
    }
   ],
   "source": [
    "# Only grab the first number of characters in the WT_seq \n",
    "onlyDBs = [i[0:wtseqLen] for i in splitByNewLine_OnlyDBs]\n",
    "print(len(onlyDBs))"
   ]
  },
  {
   "cell_type": "code",
   "execution_count": 142,
   "metadata": {},
   "outputs": [
    {
     "name": "stdout",
     "output_type": "stream",
     "text": [
      "997\n"
     ]
    }
   ],
   "source": [
    "# Only grab unique DBs\n",
    "DBs_unique = list(set(onlyDBs))\n",
    "print(len(DBs_unique))"
   ]
  },
  {
   "cell_type": "code",
   "execution_count": 143,
   "metadata": {},
   "outputs": [],
   "source": [
    "# Write the suboptimal DB structures into a file\n",
    "with open(\"../tmp/\"+tmpFolderToWrite+\"/SuboptimalStructures_1000_MAPT_hairpin_LaederachPrimer_\"+mutationToWrite+\"_UniqueDBs.db\",\"w\") as fw:\n",
    "    fw.write(\"\\n\".join(DBs_unique))\n",
    "    fw.write(\"\\n\")"
   ]
  },
  {
   "cell_type": "markdown",
   "metadata": {},
   "source": [
    "### Get sequences around MAPT hairpin with muts/snps"
   ]
  },
  {
   "cell_type": "code",
   "execution_count": 3,
   "metadata": {},
   "outputs": [],
   "source": [
    "# This is the write file to write mutations and snps into WT sequence\n",
    "writefile = \"MAPThairpin_LaederachPrimerSet_WTSeqsWithMutsAndSNPs.fa\""
   ]
  },
  {
   "cell_type": "code",
   "execution_count": 168,
   "metadata": {},
   "outputs": [
    {
     "data": {
      "text/html": [
       "<div>\n",
       "<style scoped>\n",
       "    .dataframe tbody tr th:only-of-type {\n",
       "        vertical-align: middle;\n",
       "    }\n",
       "\n",
       "    .dataframe tbody tr th {\n",
       "        vertical-align: top;\n",
       "    }\n",
       "\n",
       "    .dataframe thead th {\n",
       "        text-align: right;\n",
       "    }\n",
       "</style>\n",
       "<table border=\"1\" class=\"dataframe\">\n",
       "  <thead>\n",
       "    <tr style=\"text-align: right;\">\n",
       "      <th></th>\n",
       "      <th>0</th>\n",
       "      <th>1</th>\n",
       "      <th>2</th>\n",
       "      <th>3</th>\n",
       "      <th>4</th>\n",
       "      <th>5</th>\n",
       "      <th>6</th>\n",
       "    </tr>\n",
       "  </thead>\n",
       "  <tbody>\n",
       "    <tr>\n",
       "      <th>0</th>\n",
       "      <td>chr17</td>\n",
       "      <td>46010357</td>\n",
       "      <td>46010358</td>\n",
       "      <td>CM1510268</td>\n",
       "      <td>T</td>\n",
       "      <td>C</td>\n",
       "      <td>DM</td>\n",
       "    </tr>\n",
       "    <tr>\n",
       "      <th>1</th>\n",
       "      <td>chr17</td>\n",
       "      <td>46010372</td>\n",
       "      <td>46010373</td>\n",
       "      <td>CM014584</td>\n",
       "      <td>A</td>\n",
       "      <td>C</td>\n",
       "      <td>DM</td>\n",
       "    </tr>\n",
       "    <tr>\n",
       "      <th>2</th>\n",
       "      <td>chr17</td>\n",
       "      <td>46010372</td>\n",
       "      <td>46010373</td>\n",
       "      <td>CM1411311</td>\n",
       "      <td>A</td>\n",
       "      <td>G</td>\n",
       "      <td>DM</td>\n",
       "    </tr>\n",
       "    <tr>\n",
       "      <th>3</th>\n",
       "      <td>chr17</td>\n",
       "      <td>46010374</td>\n",
       "      <td>46010375</td>\n",
       "      <td>CS003183</td>\n",
       "      <td>T</td>\n",
       "      <td>C</td>\n",
       "      <td>DM</td>\n",
       "    </tr>\n",
       "    <tr>\n",
       "      <th>4</th>\n",
       "      <td>chr17</td>\n",
       "      <td>46010378</td>\n",
       "      <td>46010379</td>\n",
       "      <td>CS140469</td>\n",
       "      <td>A</td>\n",
       "      <td>G</td>\n",
       "      <td>DM</td>\n",
       "    </tr>\n",
       "  </tbody>\n",
       "</table>\n",
       "</div>"
      ],
      "text/plain": [
       "       0         1         2          3  4  5   6\n",
       "0  chr17  46010357  46010358  CM1510268  T  C  DM\n",
       "1  chr17  46010372  46010373   CM014584  A  C  DM\n",
       "2  chr17  46010372  46010373  CM1411311  A  G  DM\n",
       "3  chr17  46010374  46010375   CS003183  T  C  DM\n",
       "4  chr17  46010378  46010379   CS140469  A  G  DM"
      ]
     },
     "execution_count": 168,
     "metadata": {},
     "output_type": "execute_result"
    }
   ],
   "source": [
    "# Read in the mutation and common SNPs around MAPT hairpin file\n",
    "muts_snps = pd.read_csv(\"../processed_data/MutsAndSNPsAroundTauHairpin_ForLaederachPrimerSet.bed\",sep=\"\\t\",header=None)\n",
    "muts_snps.head()"
   ]
  },
  {
   "cell_type": "code",
   "execution_count": null,
   "metadata": {},
   "outputs": [],
   "source": [
    "# Open up file to write \n",
    "with open(\"../tmp/\"+tmpFolderToWrite+\"/\"+writefile,'w') as fw:\n",
    "    # Go through every mutation\n",
    "    for i in range(muts_snps.shape[0]):\n",
    "        # Write the coordinates of mutation in the first line\n",
    "        fw.write(\"> \" + muts_snps.iloc[i,3] + \",\" + str(muts_snps.iloc[i,0])+\":\"+str(muts_snps.iloc[i,1])+\"-\"+str(muts_snps.iloc[i,2]))\n",
    "        fw.write(\"\\n\")\n",
    "        # Get the start coordinate, minus 1 from start Coord because its a 1-index and we want the 0-index\n",
    "        start=muts_snps.iloc[i,1]-(start_Coord-1)\n",
    "        print(start)\n",
    "        # Obtain the sequence which includes the mutation/commonSNP \n",
    "        fw.write(WT_seq[0:start]+muts_snps.iloc[i,5]+WT_seq[start+1:])\n",
    "        fw.write(\"\\n\")"
   ]
  },
  {
   "cell_type": "markdown",
   "metadata": {},
   "source": [
    "### Get MFE structure for each sequence"
   ]
  },
  {
   "cell_type": "code",
   "execution_count": null,
   "metadata": {},
   "outputs": [],
   "source": [
    "# Name file to read and write\n",
    "readfile_struc = \"MAPThairpin_LaederachPrimerSet_WTSeqsWithMutsAndSNPs.fa\"\n",
    "writefile_struc = \"MAPThairpin_LaederachPrimerSet_MFEStructuresWithMutsAndSNPs.txt\"\n",
    "writefile_DB = \"MAPThairpin_LaederachPrimerSet_MFEStructuresForMutsAndSNPS_unique.db\""
   ]
  },
  {
   "cell_type": "code",
   "execution_count": null,
   "metadata": {},
   "outputs": [],
   "source": [
    "%%script bash -s \"$tmpFolderToWrite\" \"$readfile_struc\" \"$writefile_struc\"\n",
    "# Run RNAfold to get MFE structures \n",
    "RNAfold -i ../tmp/${1}/${2} > ../tmp/${1}/${3}"
   ]
  },
  {
   "cell_type": "code",
   "execution_count": null,
   "metadata": {},
   "outputs": [],
   "source": [
    "# Open and read the MFE structures file to extract the DB\n",
    "with open(\"../tmp/\"+tmpFolderToWrite+\"/\"+writefile_struc) as f:\n",
    "    lines = [line.strip() for line in f]"
   ]
  },
  {
   "cell_type": "code",
   "execution_count": null,
   "metadata": {},
   "outputs": [],
   "source": [
    "# It looks like every 3rd position contains a dotbracket structure\n",
    "db_strucs_withEnergy = [lines[i] for i in range(2,len(lines),3)]"
   ]
  },
  {
   "cell_type": "code",
   "execution_count": null,
   "metadata": {},
   "outputs": [],
   "source": [
    "# Get length of WT seq\n",
    "wtseqLen = len(WT_seq)"
   ]
  },
  {
   "cell_type": "code",
   "execution_count": null,
   "metadata": {},
   "outputs": [],
   "source": [
    "# Since the sequences are all the same length, we can just grab the first n length \n",
    "db_strucs = [i[0:wtseqLen] for i in db_strucs_withEnergy]"
   ]
  },
  {
   "cell_type": "code",
   "execution_count": null,
   "metadata": {},
   "outputs": [],
   "source": [
    "# only grab the unique structures\n",
    "print(len(db_strucs))\n",
    "db_strucs_uniq = list(set(db_strucs))\n",
    "print(len(db_strucs_uniq))"
   ]
  },
  {
   "cell_type": "code",
   "execution_count": null,
   "metadata": {},
   "outputs": [],
   "source": [
    "# Write the unique structures to a file\n",
    "with open(\"../tmp/\"+tmpFolderToWrite+\"/\"+writefile_DB,'w') as fw:\n",
    "    fw.write(\"\\n\".join(db_strucs_uniq))"
   ]
  },
  {
   "cell_type": "markdown",
   "metadata": {},
   "source": [
    "### Get ensemble structures for each sequence\n",
    "\n",
    "There are ~27 mutations/common SNPs around MAPT hairpin, if we generate 500 structures per mutation, then that is about 13500 structures which will probably decrease in size if we look for unique structures. \n",
    "\n",
    "I am going to do two sets using RNAsubopt one using the option deltaEnergy, and the other using stochBT option. "
   ]
  },
  {
   "cell_type": "code",
   "execution_count": 86,
   "metadata": {},
   "outputs": [],
   "source": [
    "# Name file to read and write\n",
    "readfile_struc = \"MAPThairpin_LaederachPrimerSet_WTSeqsWithMutsAndSNPs.fa\"\n",
    "writefile_Deltastruc = \"MAPThairpin_LaederachPrimerSet_SuboptimalStructuresWithMutsAndSNPs_deltaEnergy\"\n",
    "writefile_stochBT = \"MAPThairpin_LaederachPrimerSet_SuboptimalStructuresWithMutsAndSNPs_stochBT\""
   ]
  },
  {
   "cell_type": "markdown",
   "metadata": {},
   "source": [
    "#### Using RNAsubopt using deltaEnergy option"
   ]
  },
  {
   "cell_type": "raw",
   "metadata": {},
   "source": [
    "%%script bash -s \"$tmpFolderToWrite\" \"$readfile_struc\" \"$writefile_Deltastruc\"\n",
    "# Use different deltaEnergies to get the right number\n",
    "RNAsubopt -i ../tmp/${1}/${2} -e 2 > ../tmp/${1}/${3}-2.txt\n",
    "#RNAsubopt -i ../tmp/${1}/${2} -e 20 > ../tmp/${1}/${3}-20.txt"
   ]
  },
  {
   "cell_type": "code",
   "execution_count": 87,
   "metadata": {},
   "outputs": [],
   "source": [
    "# Read in 2 delta energy file to check how many DBs are present per sequence \n",
    "with open(\"../tmp/\"+tmpFolderToWrite+\"/\"+writefile_Deltastruc+\"-2.txt\") as f:\n",
    "    wholefile = f.read().strip()   "
   ]
  },
  {
   "cell_type": "code",
   "execution_count": 88,
   "metadata": {},
   "outputs": [
    {
     "name": "stdout",
     "output_type": "stream",
     "text": [
      "53284\n"
     ]
    }
   ],
   "source": [
    "# Split by sequences based on new line\n",
    "splitByNewLine = wholefile.split(\"\\n\")\n",
    "print(len(splitByNewLine))"
   ]
  },
  {
   "cell_type": "code",
   "execution_count": 89,
   "metadata": {},
   "outputs": [
    {
     "name": "stdout",
     "output_type": "stream",
     "text": [
      "53230\n"
     ]
    }
   ],
   "source": [
    "# Only grab lines that have . or ( or ) as the start character\n",
    "splitByNewLine_OnlyDBs = [i for i in splitByNewLine if i[0] in [\".\",\"(\",\")\"]]\n",
    "print(len(splitByNewLine_OnlyDBs))"
   ]
  },
  {
   "cell_type": "code",
   "execution_count": 12,
   "metadata": {},
   "outputs": [
    {
     "name": "stdout",
     "output_type": "stream",
     "text": [
      "53230\n"
     ]
    }
   ],
   "source": [
    "# Only grab the first number of characters in the WT_seq \n",
    "onlyDBs = [i[0:wtseqLen] for i in splitByNewLine_OnlyDBs]\n",
    "print(len(onlyDBs))"
   ]
  },
  {
   "cell_type": "code",
   "execution_count": 16,
   "metadata": {},
   "outputs": [
    {
     "name": "stdout",
     "output_type": "stream",
     "text": [
      "46560\n"
     ]
    }
   ],
   "source": [
    "# Only grab unique DBs\n",
    "DBs_unique = list(set(onlyDBs))\n",
    "print(len(DBs_unique))"
   ]
  },
  {
   "cell_type": "code",
   "execution_count": 21,
   "metadata": {},
   "outputs": [],
   "source": [
    "# Write the suboptimal DB structures into a file\n",
    "with open(\"../tmp/\"+tmpFolderToWrite+\"/\"+writefile_Deltastruc+\"-2_UniqueDBs.db\",\"w\") as fw:\n",
    "    fw.write(\"\\n\".join(DBs_unique))\n",
    "    fw.write(\"\\n\")"
   ]
  },
  {
   "cell_type": "code",
   "execution_count": 90,
   "metadata": {},
   "outputs": [
    {
     "name": "stdout",
     "output_type": "stream",
     "text": [
      "28\n"
     ]
    }
   ],
   "source": [
    "# Split by sequences instead of new lines\n",
    "splitBySeqs = wholefile.split(\">\")\n",
    "print(len(splitBySeqs))"
   ]
  },
  {
   "cell_type": "code",
   "execution_count": 95,
   "metadata": {},
   "outputs": [
    {
     "name": "stdout",
     "output_type": "stream",
     "text": [
      "395\n",
      "346\n",
      "500\n",
      "328\n",
      "233\n",
      "500\n",
      "500\n",
      "500\n",
      "500\n",
      "500\n",
      "500\n",
      "371\n",
      "500\n",
      "500\n",
      "500\n",
      "500\n",
      "300\n",
      "306\n",
      "500\n",
      "306\n",
      "500\n",
      "436\n",
      "500\n",
      "500\n",
      "500\n",
      "266\n",
      "500\n"
     ]
    }
   ],
   "source": [
    "# For each seq, split by new line, then grab the first 500 lines\n",
    "DBs_FromSeqs = []\n",
    "for dbs in splitBySeqs[1:]:\n",
    "    splitByNewLine = dbs.strip().split(\"\\n\")\n",
    "    splitByNewLine_OnlyDBs = [i for i in splitByNewLine if i[0] in [\".\",\"(\",\")\"]]\n",
    "    # Only grab the first number of characters in the WT_seq for the first 500 DBs \n",
    "    onlyDBs = [i[0:wtseqLen] for i in splitByNewLine_OnlyDBs[0:500]]\n",
    "    print(len(onlyDBs))\n",
    "    DBs_FromSeqs.extend(onlyDBs)"
   ]
  },
  {
   "cell_type": "code",
   "execution_count": 96,
   "metadata": {},
   "outputs": [
    {
     "name": "stdout",
     "output_type": "stream",
     "text": [
      "11787\n"
     ]
    }
   ],
   "source": [
    "print(len(DBs_FromSeqs))"
   ]
  },
  {
   "cell_type": "code",
   "execution_count": 98,
   "metadata": {},
   "outputs": [
    {
     "name": "stdout",
     "output_type": "stream",
     "text": [
      "8955\n"
     ]
    }
   ],
   "source": [
    "# Only grab unique DBs\n",
    "DBs_unique = list(set(DBs_FromSeqs))\n",
    "print(len(DBs_unique))"
   ]
  },
  {
   "cell_type": "code",
   "execution_count": 99,
   "metadata": {},
   "outputs": [],
   "source": [
    "# Write the suboptimal DB structures into a file\n",
    "with open(\"../tmp/\"+tmpFolderToWrite+\"/\"+writefile_Deltastruc+\"-2_Top500_UniqueDBs.db\",\"w\") as fw:\n",
    "    fw.write(\"\\n\".join(DBs_unique))\n",
    "    fw.write(\"\\n\")"
   ]
  },
  {
   "cell_type": "markdown",
   "metadata": {},
   "source": [
    "#### Using RNAsubopt using stochBT option"
   ]
  },
  {
   "cell_type": "code",
   "execution_count": 53,
   "metadata": {},
   "outputs": [],
   "source": [
    "numberDBs = \"500\""
   ]
  },
  {
   "cell_type": "raw",
   "metadata": {},
   "source": [
    "%%script bash -s \"$tmpFolderToWrite\" \"$readfile_struc\" \"$writefile_stochBT\" \"$numberDBs\"\n",
    "# Use different deltaEnergies to get the right number\n",
    "# This does not seem to run properly in jupyter notebook cell, run in actual bash\n",
    "num=$(($4 + 0))\n",
    "RNAsubopt -i ../tmp/${1}/${2} −p ${num} > ../tmp/${1}/${3}-${4}.txt"
   ]
  },
  {
   "cell_type": "code",
   "execution_count": 54,
   "metadata": {},
   "outputs": [],
   "source": [
    "# Read in stochBT file to check how many DBs are present per sequence \n",
    "with open(\"../tmp/\"+tmpFolderToWrite+\"/\"+writefile_stochBT+\"-\"+numberDBs+\".txt\") as f:\n",
    "    wholefile = f.read().strip()   "
   ]
  },
  {
   "cell_type": "code",
   "execution_count": 55,
   "metadata": {},
   "outputs": [
    {
     "name": "stdout",
     "output_type": "stream",
     "text": [
      "13554\n"
     ]
    }
   ],
   "source": [
    "# Split by sequences based on new line\n",
    "splitByNewLine = wholefile.split(\"\\n\")\n",
    "print(len(splitByNewLine))"
   ]
  },
  {
   "cell_type": "code",
   "execution_count": 56,
   "metadata": {},
   "outputs": [
    {
     "name": "stdout",
     "output_type": "stream",
     "text": [
      "13500\n"
     ]
    }
   ],
   "source": [
    "# Only grab lines that have . or ( or ) as the start character\n",
    "splitByNewLine_OnlyDBs = [i for i in splitByNewLine if i[0] in [\".\",\"(\",\")\"]]\n",
    "print(len(splitByNewLine_OnlyDBs))"
   ]
  },
  {
   "cell_type": "code",
   "execution_count": 57,
   "metadata": {},
   "outputs": [
    {
     "name": "stdout",
     "output_type": "stream",
     "text": [
      "13500\n"
     ]
    }
   ],
   "source": [
    "# Only grab the first number of characters in the WT_seq \n",
    "onlyDBs = [i[0:wtseqLen] for i in splitByNewLine_OnlyDBs]\n",
    "print(len(onlyDBs))"
   ]
  },
  {
   "cell_type": "code",
   "execution_count": 58,
   "metadata": {},
   "outputs": [
    {
     "name": "stdout",
     "output_type": "stream",
     "text": [
      "13438\n"
     ]
    }
   ],
   "source": [
    "# Only grab unique DBs\n",
    "DBs_unique = list(set(onlyDBs))\n",
    "print(len(DBs_unique))"
   ]
  },
  {
   "cell_type": "code",
   "execution_count": 60,
   "metadata": {},
   "outputs": [],
   "source": [
    "# Write the suboptimal DB structures into a file\n",
    "with open(\"../tmp/\"+tmpFolderToWrite+\"/\"+writefile_stochBT+\"-\"+numberDBs+\"_UniqueDBs.db\",\"w\") as fw:\n",
    "    fw.write(\"\\n\".join(DBs_unique))\n",
    "    fw.write(\"\\n\")"
   ]
  },
  {
   "cell_type": "code",
   "execution_count": 28,
   "metadata": {},
   "outputs": [
    {
     "data": {
      "text/plain": [
       "123"
      ]
     },
     "execution_count": 28,
     "metadata": {},
     "output_type": "execute_result"
    }
   ],
   "source": [
    "3324/27"
   ]
  },
  {
   "cell_type": "markdown",
   "metadata": {},
   "source": [
    "### Need to run ensembleRNA now on the ensembles created"
   ]
  },
  {
   "cell_type": "code",
   "execution_count": null,
   "metadata": {},
   "outputs": [],
   "source": [
    "#ensemblerna -md MAPThairpin_LaederachPrimerSet_SuboptimalStructuresWithMutsAndSNPs_deltaEnergy-2_UniqueDBs.db ../../data/MAPT_hairpin_CoordsForLaederachPrimer.fa ensembleRNA_MAPThairpin_LaederachPrimerSet_MapDBUsingSubOptimalDeltaEnergy-2\n",
    "#ensemblerna -md MAPThairpin_LaederachPrimerSet_SuboptimalStructuresWithMutsAndSNPs_deltaEnergy-2_UniqueDBs.db -d MAPThairpin_LaederachPrimerSet_SuboptimalStructuresWithMutsAndSNPs_deltaEnergy-2_UniqueDBs.db ../../data/MAPT_hairpin_CoordsForLaederachPrimer.fa ensembleRNA_MAPThairpin_LaederachPrimerSet_DBAndMapDBUsingSubOptimalDeltaEnergy-2\n",
    "#ensemblerna -r 50 150 -md MAPThairpin_LaederachPrimerSet_SuboptimalStructuresWithMutsAndSNPs_deltaEnergy-2_UniqueDBs.db -d MAPThairpin_LaederachPrimerSet_SuboptimalStructuresWithMutsAndSNPs_deltaEnergy-2_UniqueDBs.db ../../data/MAPT_hairpin_CoordsForLaederachPrimer.fa ensembleRNA_MAPThairpin_LaederachPrimerSet_Cluster50-150_DBAndMapDBUsingSubOptimalDeltaEnergy-2\n",
    "#ensemblerna -r 50 150 -md MAPThairpin_LaederachPrimerSet_SuboptimalStructuresWithMutsAndSNPs_deltaEnergy-2_UniqueDBs.db ../../data/MAPT_hairpin_CoordsForLaederachPrimer.fa ensembleRNA_MAPThairpin_LaederachPrimerSet_Cluster50-150_MapDBUsingSubOptimalDeltaEnergy-2"
   ]
  },
  {
   "cell_type": "markdown",
   "metadata": {},
   "source": [
    "### Write code to perform ensemble calculations for any mutation put in"
   ]
  },
  {
   "cell_type": "code",
   "execution_count": 169,
   "metadata": {},
   "outputs": [],
   "source": [
    "import subprocess\n",
    "import pandas as pd\n",
    "\n",
    "def getPercentageChangesInEnsemble(WTseq,mutation,mutposition,projectedDBfile,rangeToCluster):\n",
    "    # First get Mut Seq\n",
    "    mutSeq = WTseq[0:mutposition]+mutation+WTseq[mutposition+1:]\n",
    "    # Write MutSeq into fastafile\n",
    "    with open(\"../tmp/mutationSeq.fa\",\"w\") as fw:\n",
    "        fw.write(\"> Mutation_Position\"+str(mutposition)+\"_\"+WTseq[mutposition]+\"->\"+mutation)\n",
    "        fw.write(\"\\n\")\n",
    "        fw.write(mutSeq)\n",
    "        fw.write(\"\\n\")\n",
    "        # Get 1000 suboptimal structures for the mutation\n",
    "    with open(\"../tmp/SeqWithMutation_1000SuboptimalStructures.txt\",\"w\") as gw:\n",
    "        subprocess.call([\"RNAsubopt\", \"-p\",\"1000\", \"-i\",\"../tmp/mutationSeq.fa\"], stdout=gw)\n",
    "    # Read in 1000 suboptimal structures \n",
    "    with open(\"../tmp/SeqWithMutation_1000SuboptimalStructures.txt\") as f:\n",
    "        wholefile = f.read().strip()    \n",
    "    # Split by sequences based on new line\n",
    "    splitByNewLine = wholefile.split(\"\\n\")\n",
    "    print(len(splitByNewLine))\n",
    "    # Only grab lines that have . or ( or ) as the start character\n",
    "    splitByNewLine_OnlyDBs = [i for i in splitByNewLine if i[0] in [\".\",\"(\",\")\"]]\n",
    "    print(len(splitByNewLine_OnlyDBs))\n",
    "    # Only grab the first number of characters in the WT_seq \n",
    "    onlyDBs = [i[0:len(WTseq)] for i in splitByNewLine_OnlyDBs]\n",
    "    print(len(onlyDBs))\n",
    "    # Only grab unique DBs\n",
    "    DBs_unique = list(set(onlyDBs))\n",
    "    print(len(DBs_unique))\n",
    "    # Write the suboptimal DB structures into a file\n",
    "    with open(\"../tmp/SeqWithMutation_1000SuboptimalStructures_UniqueDBs.db\",\"w\") as fw:\n",
    "        fw.write(\"\\n\".join(DBs_unique))\n",
    "        fw.write(\"\\n\")\n",
    "    # Call ensemblerna on this mutation db file\n",
    "    subprocess.call([\"ensemblerna\", \"-d\",\"../tmp/SeqWithMutation_1000SuboptimalStructures_UniqueDBs.db\",\"-md\",projectedDBfile,\"-r\",str(rangeToCluster[0]),str(rangeToCluster[1]),\"../tmp/mutationSeq.fa\",\"../tmp/mutation_EnsembleRNA_output\"])\n",
    "    # Read in map db csv\n",
    "    map_DB = pd.read_csv(\"../tmp/mutation_EnsembleRNA_output/mutationSeq_map.csv\",sep=\",\",header=0)\n",
    "    # Read in mut csv\n",
    "    mut_DB = pd.read_csv(\"../tmp/mutation_EnsembleRNA_output/mutationSeq.csv\",sep=\",\",header=0)\n",
    "    # Return the numbers \n",
    "    Num_map_vector0 = map_DB[map_DB[\"vectorization\"]=='[0]'][\"frequency\"].values[0]\n",
    "    Num_map_vector1 = map_DB[map_DB[\"vectorization\"]=='[1]'][\"frequency\"].values[0]\n",
    "    Num_mut_vector0 = mut_DB[mut_DB[\"vectorization\"]=='[0]'][\"frequency\"].values[0]\n",
    "    Num_mut_vector1 = mut_DB[mut_DB[\"vectorization\"]=='[1]'][\"frequency\"].values[0]\n",
    "    return(Num_map_vector0,Num_map_vector1,Num_mut_vector0,Num_mut_vector1)"
   ]
  },
  {
   "cell_type": "code",
   "execution_count": null,
   "metadata": {},
   "outputs": [],
   "source": [
    "# Go through all the mutations and SNPs and get number of structures for vector 0 and vector 1\n",
    "# Read in the mutation and common SNPs around MAPT hairpin file\n",
    "start_Coord=46010343\n",
    "WT_seq=\"AACGTCCAGTCCAAGTGTGGCTCAAAGGATAATATCAAACACGTCCCGGGAGGCGGCAGTGTGAGTACCTTCACACGTCCCATGCGCCGTGCTGTGGCTTGAATTATTAGGAAGTGGTGTGAGTGCGTACACTTGCGAGACACTGCATAGAATAAATCCTTCTTGGGCTCTCAGGATCTGGCTGCGACCTCTGGGTGAATG\"\n",
    "muts_snps = pd.read_csv(\"../processed_data/MutsAndSNPsAroundTauHairpin_ForLaederachPrimerSet.bed\",sep=\"\\t\",header=None)\n",
    "with open(\"../tmp/Structures_forMuts.csv\",\"w\") as sw:\n",
    "    for i in range(muts_snps.shape[0]):\n",
    "        # Write the coordinates of mutation in the first line\n",
    "        positionMut=muts_snps.iloc[i,1]-(start_Coord-1)\n",
    "        mut = muts_snps.iloc[i,5]\n",
    "        name_Mut = muts_snps.iloc[i,3]\n",
    "        nums = getPercentageChangesInEnsemble(WT_seq,mut,positionMut,\"../tmp/BuildEnsembleFromMutationsSNPs/MAPThairpin_LaederachPrimerSet_SuboptimalStructuresWithMutsAndSNPs_deltaEnergy-2_Top500_UniqueDBs.db\",[50,80])\n",
    "        toWrite = [str(name_Mut),str(nums[0]),str(nums[1]),str(nums[2]),str(nums[3])]\n",
    "        fw.write(\",\".join(toWrite))\n",
    "        fw.write(\"\\n\")"
   ]
  }
 ],
 "metadata": {
  "kernelspec": {
   "display_name": "Python 2",
   "language": "python",
   "name": "python2"
  },
  "language_info": {
   "codemirror_mode": {
    "name": "ipython",
    "version": 2
   },
   "file_extension": ".py",
   "mimetype": "text/x-python",
   "name": "python",
   "nbconvert_exporter": "python",
   "pygments_lexer": "ipython2",
   "version": "2.7.15rc1"
  }
 },
 "nbformat": 4,
 "nbformat_minor": 2
}
